{
 "cells": [
  {
   "cell_type": "code",
   "execution_count": 1,
   "id": "11783d4c-304a-4c32-a4c1-377b35909bc4",
   "metadata": {},
   "outputs": [],
   "source": [
    "from langchain_community.document_loaders import PyPDFLoader"
   ]
  },
  {
   "cell_type": "code",
   "execution_count": 3,
   "id": "b47c1802",
   "metadata": {},
   "outputs": [],
   "source": [
    "loader= PyPDFLoader(\"Freshwater_Aquarium_Guide.pdf\")\n",
    "data=loader.load()"
   ]
  },
  {
   "cell_type": "code",
   "execution_count": 5,
   "id": "0b8a938a",
   "metadata": {},
   "outputs": [
    {
     "name": "stdout",
     "output_type": "stream",
     "text": [
      "474\n"
     ]
    }
   ],
   "source": [
    "lenght=len(data)\n",
    "print(lenght)"
   ]
  },
  {
   "cell_type": "code",
   "execution_count": 6,
   "id": "2d43e995",
   "metadata": {},
   "outputs": [
    {
     "name": "stdout",
     "output_type": "stream",
     "text": [
      "new lenght: 984\n"
     ]
    }
   ],
   "source": [
    "from langchain.text_splitter import RecursiveCharacterTextSplitter\n",
    "text_splitter= RecursiveCharacterTextSplitter(chunk_size=1000)\n",
    "docs= text_splitter.split_documents(data)\n",
    "\n",
    "print(\"new lenght:\",len(docs))"
   ]
  },
  {
   "cell_type": "code",
   "execution_count": 8,
   "id": "2fb676da",
   "metadata": {},
   "outputs": [
    {
     "data": {
      "text/plain": [
       "Document(metadata={'source': 'Freshwater_Aquarium_Guide.pdf', 'page': 11}, page_content=\"knowing they were setting themselves up for failure. They would get the aquarium set up and \\nrunning, put some fish in and everything would be fine for a couple of days but then the fish \\nwould start to die. Now we know better. We know about the crucial aquarium nitrogen \\ncycle that must take place in all new tanks. We know how to properly acclimate tropical fish to \\nour tank water and how to periodically use our aquarium test kits to test the tank water to \\nmake sure nothing is out of whack. We have better access to fish behavior and can determine \\nwhich fishes shouldn't be kept together in the same tank. The information is out there, at our \\nfingertips, at libraries, book stores and the search engines. \\nSo, with all this available information we can quickly come up to speed with running a tank in \\nour home. There are many different types of aquarium setups but the most common types are \\nfreshwater, saltwater fish only and saltwater reef tanks. Here is a very brief intro:\")"
      ]
     },
     "execution_count": 8,
     "metadata": {},
     "output_type": "execute_result"
    }
   ],
   "source": [
    "docs[44]"
   ]
  },
  {
   "cell_type": "code",
   "execution_count": 10,
   "id": "db8bfc0e",
   "metadata": {},
   "outputs": [
    {
     "data": {
      "text/plain": [
       "True"
      ]
     },
     "execution_count": 10,
     "metadata": {},
     "output_type": "execute_result"
    }
   ],
   "source": [
    "from langchain_chroma import Chroma\n",
    "from langchain_google_genai import GoogleGenerativeAIEmbeddings\n",
    "from dotenv import load_dotenv\n",
    "load_dotenv()"
   ]
  },
  {
   "cell_type": "code",
   "execution_count": 11,
   "id": "f896d737",
   "metadata": {},
   "outputs": [
    {
     "data": {
      "text/plain": [
       "[0.02511064149439335,\n",
       " -0.017389148473739624,\n",
       " -0.03452358767390251,\n",
       " -0.010906916111707687,\n",
       " 0.012962160632014275]"
      ]
     },
     "execution_count": 11,
     "metadata": {},
     "output_type": "execute_result"
    }
   ],
   "source": [
    "embedding=GoogleGenerativeAIEmbeddings(model=\"models/embedding-001\")\n",
    "vector=embedding.embed_query(\"Testing embedding\")\n",
    "vector[:5]"
   ]
  },
  {
   "cell_type": "code",
   "execution_count": null,
   "id": "4be1d00b",
   "metadata": {},
   "outputs": [],
   "source": []
  }
 ],
 "metadata": {
  "kernelspec": {
   "display_name": "Python 3 (ipykernel)",
   "language": "python",
   "name": "python3"
  },
  "language_info": {
   "codemirror_mode": {
    "name": "ipython",
    "version": 3
   },
   "file_extension": ".py",
   "mimetype": "text/x-python",
   "name": "python",
   "nbconvert_exporter": "python",
   "pygments_lexer": "ipython3",
   "version": "3.10.16"
  }
 },
 "nbformat": 4,
 "nbformat_minor": 5
}
